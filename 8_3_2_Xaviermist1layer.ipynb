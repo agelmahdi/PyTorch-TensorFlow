{
 "cells": [
  {
   "cell_type": "markdown",
   "id": "e481c6e5-fe41-43a2-a806-d86553289ff1",
   "metadata": {},
   "source": [
    "<h1>Test Uniform, Default and Xavier Uniform Initialization on MNIST dataset with tanh activation</h1>\n"
   ]
  },
  {
   "cell_type": "markdown",
   "id": "3f604247-6f35-4411-a96c-1b7f7112cf2e",
   "metadata": {},
   "source": [
    "\n",
    "<h3>Objective for this Notebook<h3>    \n",
    "<h5> 1. Define Several Neural Network, Criterion function, Optimizer</h5>\n",
    "<h5> 2. Test Uniform, Default and Xavier Initialization </h5>     \n",
    "\n"
   ]
  },
  {
   "cell_type": "markdown",
   "id": "8a2e21e0-7c61-4d43-9c24-4d8a6a2c7143",
   "metadata": {},
   "source": [
    "<h2>Table of Contents</h2>\n",
    "In this lab, you will test PyTroch Default Initialization, Xavier Initialization and Uniform Initialization on the MNIST dataset. \n",
    "\n",
    "<ul>\n",
    "    <li><a href=\"#Model\">Neural Network Module and Training Function</a></li>\n",
    "    <li><a href=\"#Make\">Make Some Data</a></li>\n",
    "    <li><a href=\"#Cost\">Define Several Neural Network, Criterion function, Optimizer</a></li>\n",
    "    <li><a href=\"#Train\">Test Uniform, Default and Xavier Initialization</a></li>\n",
    "    <li><a href=\"#Result\">Analyze Results</a></li>\n",
    "</ul>\n",
    "\n",
    "<p>Estimated Time Needed: <strong>25 min</strong></p>\n",
    "\n",
    "<hr>\n"
   ]
  },
  {
   "cell_type": "markdown",
   "id": "ad8a61d4-bc1d-42cd-93f2-d109354cabcc",
   "metadata": {},
   "source": [
    "<h2>Preparation</h2>\n"
   ]
  },
  {
   "cell_type": "markdown",
   "id": "b8dc6ad0-141c-4a05-af0e-935f9207fa1d",
   "metadata": {},
   "source": [
    "We'll need the following libraries:  \n"
   ]
  },
  {
   "cell_type": "code",
   "execution_count": 1,
   "id": "33b5c0c4-fa00-4655-95c8-c26a17e886b6",
   "metadata": {},
   "outputs": [
    {
     "data": {
      "text/plain": [
       "<torch._C.Generator at 0x1119224b0>"
      ]
     },
     "execution_count": 1,
     "metadata": {},
     "output_type": "execute_result"
    }
   ],
   "source": [
    "# Import the libraries we need to use in this lab\n",
    "\n",
    "# Using the following line code to install the torchvision library\n",
    "# !mamba install -y torchvision\n",
    "\n",
    "import torch \n",
    "import torch.nn as nn\n",
    "import torchvision.transforms as transforms\n",
    "import torchvision.datasets as dsets\n",
    "import matplotlib.pylab as plt\n",
    "import numpy as np\n",
    "\n",
    "torch.manual_seed(0)"
   ]
  },
  {
   "cell_type": "markdown",
   "id": "4818a834-4e17-4e6d-8be0-c65b6bf32c80",
   "metadata": {},
   "source": [
    "<!--Empty Space for separating topics-->\n"
   ]
  },
  {
   "cell_type": "markdown",
   "id": "433629b6-cca2-46f1-9035-034dde3b1070",
   "metadata": {},
   "source": [
    "<a name=\"Model\"><h2 id=\"Model\">Neural Network Module and Training Function</h2> </a>\n"
   ]
  },
  {
   "cell_type": "markdown",
   "id": "85c62de6-2120-4e06-bd4a-da61c4e6986e",
   "metadata": {},
   "source": [
    "Define the neural network module or class with Xavier Initialization\n"
   ]
  },
  {
   "cell_type": "code",
   "execution_count": 2,
   "id": "d8f93a48-fe8c-4f17-b281-30c6c5ec7547",
   "metadata": {},
   "outputs": [],
   "source": [
    "# Define the neural network with Xavier initialization\n",
    "\n",
    "class Net_Xavier(nn.Module):\n",
    "    \n",
    "    # Constructor\n",
    "    def __init__(self, Layers):\n",
    "        super(Net_Xavier, self).__init__()\n",
    "        self.hidden = nn.ModuleList()\n",
    "\n",
    "        for input_size, output_size in zip(Layers, Layers[1:]):\n",
    "            linear = nn.Linear(input_size, output_size)\n",
    "            torch.nn.init.xavier_uniform_(linear.weight)\n",
    "            self.hidden.append(linear)\n",
    "    \n",
    "    # Prediction\n",
    "    def forward(self, x):\n",
    "        L = len(self.hidden)\n",
    "        for (l, linear_transform) in zip(range(L), self.hidden):\n",
    "            if l < L - 1:\n",
    "                x = torch.tanh(linear_transform(x))\n",
    "            else:\n",
    "                x = linear_transform(x)\n",
    "        return x"
   ]
  },
  {
   "cell_type": "markdown",
   "id": "a06c5006-630c-48b0-92b1-842f510ac643",
   "metadata": {},
   "source": [
    "Define the neural network module with Uniform Initialization:\n"
   ]
  },
  {
   "cell_type": "code",
   "execution_count": 3,
   "id": "6e345172-1c0a-4246-b2b1-23fd980c4279",
   "metadata": {},
   "outputs": [],
   "source": [
    "# Define the neural network with Uniform initialization\n",
    "\n",
    "class Net_Uniform(nn.Module):\n",
    "    \n",
    "    # Constructor\n",
    "    def __init__(self, Layers):\n",
    "        super(Net_Uniform, self).__init__()\n",
    "        self.hidden = nn.ModuleList()\n",
    "\n",
    "        for input_size, output_size in zip(Layers, Layers[1:]):\n",
    "            linear = nn.Linear(input_size, output_size)\n",
    "            linear.weight.data.uniform_(0, 1)\n",
    "            self.hidden.append(linear)\n",
    "    \n",
    "    # Prediction\n",
    "    def forward(self, x):\n",
    "        L = len(self.hidden)\n",
    "        for (l, linear_transform) in zip(range(L), self.hidden):\n",
    "            if l < L - 1:\n",
    "                x = torch.tanh(linear_transform(x))\n",
    "            else:\n",
    "                x = linear_transform(x)\n",
    "        return x"
   ]
  },
  {
   "cell_type": "markdown",
   "id": "d8314b11-d883-4f95-81f5-1f9689cbab72",
   "metadata": {},
   "source": [
    "Define the neural network module with PyTroch Default Initialization\n"
   ]
  },
  {
   "cell_type": "code",
   "execution_count": 4,
   "id": "f8975575-ddb7-40d3-be4b-884c4998d34b",
   "metadata": {},
   "outputs": [],
   "source": [
    "# Define the neural network with Default initialization\n",
    "\n",
    "class Net(nn.Module):\n",
    "    \n",
    "    # Constructor\n",
    "    def __init__(self, Layers):\n",
    "        super(Net, self).__init__()\n",
    "        self.hidden = nn.ModuleList()\n",
    "\n",
    "        for input_size, output_size in zip(Layers, Layers[1:]):\n",
    "            linear = nn.Linear(input_size, output_size)\n",
    "            self.hidden.append(linear)\n",
    "    \n",
    "    # Prediction\n",
    "    def forward(self, x):\n",
    "        L = len(self.hidden)\n",
    "        for (l, linear_transform) in zip(range(L), self.hidden):\n",
    "            if l < L - 1:\n",
    "                x = torch.tanh(linear_transform(x))\n",
    "            else:\n",
    "                x = linear_transform(x)\n",
    "        return x"
   ]
  },
  {
   "cell_type": "markdown",
   "id": "9dfd478f-e892-4096-91c9-b73d63e496b4",
   "metadata": {},
   "source": [
    "Define a function to train the model, in this case the function returns a Python dictionary to store the training loss and accuracy on the validation data \n"
   ]
  },
  {
   "cell_type": "code",
   "execution_count": 5,
   "id": "62107e12-15e0-4458-a150-710883284003",
   "metadata": {},
   "outputs": [],
   "source": [
    "# function to Train the model\n",
    "\n",
    "def train(model, criterion, train_loader, validation_loader, optimizer, epochs = 100):\n",
    "    i = 0\n",
    "    loss_accuracy = {'training_loss':[], 'validation_accuracy':[]}  \n",
    "    \n",
    "    for epoch in range(epochs):\n",
    "        for i,(x, y) in enumerate(train_loader):\n",
    "            optimizer.zero_grad()\n",
    "            z = model(x.view(-1, 28 * 28))\n",
    "            loss = criterion(z, y)\n",
    "            loss.backward()\n",
    "            optimizer.step()\n",
    "            loss_accuracy['training_loss'].append(loss.data.item())\n",
    "            \n",
    "        correct = 0\n",
    "        for x, y in validation_loader:\n",
    "            yhat = model(x.view(-1, 28 * 28))\n",
    "            _, label = torch.max(yhat, 1)\n",
    "            correct += (label==y).sum().item()\n",
    "        accuracy = 100 * (correct / len(validation_dataset))\n",
    "        loss_accuracy['validation_accuracy'].append(accuracy)\n",
    "        \n",
    "    return loss_accuracy"
   ]
  },
  {
   "cell_type": "markdown",
   "id": "711bfb07-277e-4c27-8dd0-92456d0e47f3",
   "metadata": {},
   "source": [
    "<!--Empty Space for separating topics-->\n"
   ]
  },
  {
   "cell_type": "markdown",
   "id": "d9f4832b-cb70-4489-9024-a103cc9d2fc4",
   "metadata": {},
   "source": [
    "<a name=\"Make\"><h2 id=\"Makeup_Data\">Make Some Data</h2></a>\n"
   ]
  },
  {
   "cell_type": "markdown",
   "id": "4f6b5d3d-8f27-4f11-b976-d0da67241a8f",
   "metadata": {},
   "source": [
    "Load the training dataset by setting the parameters <code>train </code> to <code>True</code> and convert it to a tensor  by placing a transform object int the argument <code>transform</code>\n"
   ]
  },
  {
   "cell_type": "code",
   "execution_count": 6,
   "id": "1f6c03ce-d7e6-417f-bf4a-763a0c0c9889",
   "metadata": {},
   "outputs": [],
   "source": [
    "# Create the train dataset\n",
    "\n",
    "train_dataset = dsets.MNIST(root='./data', train=True, download=True, transform=transforms.ToTensor())"
   ]
  },
  {
   "cell_type": "markdown",
   "id": "57c7b8b5-6221-4cba-bcb3-d0dd51c125f0",
   "metadata": {},
   "source": [
    "Load the testing dataset by setting the parameters <code>train</code> to <code>False</code> and convert it to a tensor  by placing a transform object int the argument <code>transform</code>\n"
   ]
  },
  {
   "cell_type": "code",
   "execution_count": 7,
   "id": "fc75cd59-5e53-4e93-967b-c3a874df6aa6",
   "metadata": {},
   "outputs": [],
   "source": [
    "# Create the validation dataset\n",
    "\n",
    "validation_dataset = dsets.MNIST(root='./data', train=False, download=True, transform=transforms.ToTensor())"
   ]
  },
  {
   "cell_type": "markdown",
   "id": "d132ed74-f9d8-4bae-bfcf-55f20f374851",
   "metadata": {},
   "source": [
    "Create the training-data loader and the validation-data loader object \n"
   ]
  },
  {
   "cell_type": "code",
   "execution_count": 8,
   "id": "706832d4-e6b4-4f35-868d-2b4369c08ace",
   "metadata": {},
   "outputs": [],
   "source": [
    "# Create Dataloader for both train dataset and validation dataset\n",
    "\n",
    "train_loader = torch.utils.data.DataLoader(dataset=train_dataset, batch_size=2000, shuffle=True)\n",
    "validation_loader = torch.utils.data.DataLoader(dataset=validation_dataset, batch_size=5000, shuffle=False)"
   ]
  },
  {
   "cell_type": "markdown",
   "id": "9b50361b-cfd9-4852-89fe-98ce3e1418a8",
   "metadata": {},
   "source": [
    "<!--Empty Space for separating topics-->\n"
   ]
  },
  {
   "cell_type": "markdown",
   "id": "31b08bfa-c876-48c5-a78c-7a69a5291273",
   "metadata": {},
   "source": [
    "<a name=\"Cost\"><h2 id=\"Cost\">Define Neural Network, Criterion function, Optimizer and Train the Model</h2></a>\n"
   ]
  },
  {
   "cell_type": "markdown",
   "id": "48bf6b25-b056-4c8f-9866-717949e2acd9",
   "metadata": {},
   "source": [
    "Create the criterion function\n"
   ]
  },
  {
   "cell_type": "code",
   "execution_count": 9,
   "id": "a9b3bb16-7ef3-4e7b-8425-51282aba1989",
   "metadata": {},
   "outputs": [],
   "source": [
    "# Define criterion function\n",
    "\n",
    "criterion = nn.CrossEntropyLoss()"
   ]
  },
  {
   "cell_type": "markdown",
   "id": "a487da5a-f4a7-416d-a32e-f7b9bcfbc22a",
   "metadata": {},
   "source": [
    "Create the model with 100 hidden layers  \n"
   ]
  },
  {
   "cell_type": "code",
   "execution_count": 10,
   "id": "173945cf-83e8-407b-a426-05ad17976e19",
   "metadata": {},
   "outputs": [],
   "source": [
    "# Set the parameters\n",
    "\n",
    "input_dim = 28 * 28\n",
    "output_dim = 10\n",
    "layers = [input_dim, 100, 10, 100, 10, 100, output_dim]\n",
    "epochs = 15"
   ]
  },
  {
   "cell_type": "markdown",
   "id": "b14c76bf-9ba7-4160-bd71-a25b7890a484",
   "metadata": {},
   "source": [
    "<!--Empty Space for separating topics-->\n"
   ]
  },
  {
   "cell_type": "markdown",
   "id": "0035cd2d-62d5-4964-835f-271c2a7d55e3",
   "metadata": {},
   "source": [
    "<a name=\"Train\"><h2 id=\"Train\">Test PyTorch Default Initialization, Xavier Initialization, Uniform Initialization</h2></a>\n"
   ]
  },
  {
   "cell_type": "markdown",
   "id": "e8a91e00-c46e-402c-a519-2172b0aa17bd",
   "metadata": {},
   "source": [
    "Train the network using PyTorch Default Initialization\n"
   ]
  },
  {
   "cell_type": "code",
   "execution_count": 11,
   "id": "56ddfa48-6b05-4cc7-88eb-fcd4ece1e4ad",
   "metadata": {},
   "outputs": [],
   "source": [
    "# Train the model with default initialization\n",
    "\n",
    "model = Net(layers)\n",
    "learning_rate = 0.01\n",
    "optimizer = torch.optim.SGD(model.parameters(), lr=learning_rate)\n",
    "training_results = train(model, criterion, train_loader, validation_loader, optimizer, epochs=epochs)"
   ]
  },
  {
   "cell_type": "markdown",
   "id": "57052107-9f34-47b4-b932-e1151d5fa52c",
   "metadata": {},
   "source": [
    "Train the network using Xavier Initialization function\n"
   ]
  },
  {
   "cell_type": "code",
   "execution_count": 12,
   "id": "75206a90-c5ba-4b1c-b69a-5f17c9b6b563",
   "metadata": {},
   "outputs": [],
   "source": [
    "# Train the model with Xavier initialization\n",
    "\n",
    "model_Xavier = Net_Xavier(layers)\n",
    "optimizer = torch.optim.SGD(model_Xavier.parameters(), lr=learning_rate)\n",
    "training_results_Xavier = train(model_Xavier, criterion, train_loader, validation_loader, optimizer, epochs=epochs)"
   ]
  },
  {
   "cell_type": "markdown",
   "id": "f8e8374f-27bb-43e4-87c6-877c88c43400",
   "metadata": {},
   "source": [
    "Train the network using Uniform Initialization\n"
   ]
  },
  {
   "cell_type": "code",
   "execution_count": 13,
   "id": "e86fbda7-4264-47dc-8f94-e928f8209c19",
   "metadata": {},
   "outputs": [],
   "source": [
    "# Train the model with Uniform initialization\n",
    "\n",
    "model_Uniform = Net_Uniform(layers)\n",
    "optimizer = torch.optim.SGD(model_Uniform.parameters(), lr=learning_rate)\n",
    "training_results_Uniform = train(model_Uniform, criterion, train_loader, validation_loader, optimizer, epochs=epochs)"
   ]
  },
  {
   "cell_type": "markdown",
   "id": "dbab8e72-849f-4207-983f-2f8ca91960e6",
   "metadata": {},
   "source": [
    "<!--Empty Space for separating topics-->\n"
   ]
  },
  {
   "cell_type": "markdown",
   "id": "742c503d-d8c0-4426-b54c-9752c49cdeda",
   "metadata": {},
   "source": [
    "<a name=\"Result\"><h2 id=\"Result\">Analyse Results</h2></a>\n"
   ]
  },
  {
   "cell_type": "markdown",
   "id": "d3f1fa6f-e6b9-47fc-8df8-88cc0cc17f20",
   "metadata": {},
   "source": [
    "Compare the training loss for each initialization\n"
   ]
  },
  {
   "cell_type": "code",
   "execution_count": 14,
   "id": "94bb425a-dc03-4cf4-a955-5ce47afad70f",
   "metadata": {},
   "outputs": [
    {
     "data": {
      "text/plain": [
       "<matplotlib.legend.Legend at 0x125d04380>"
      ]
     },
     "execution_count": 14,
     "metadata": {},
     "output_type": "execute_result"
    },
    {
     "data": {
      "image/png": "[encoded data removed]",
      "text/plain": [
       "<Figure size 640x480 with 1 Axes>"
      ]
     },
     "metadata": {},
     "output_type": "display_data"
    }
   ],
   "source": [
    "# Plot the loss\n",
    "\n",
    "plt.plot(training_results_Xavier['training_loss'], label='Xavier')\n",
    "plt.plot(training_results['training_loss'], label='Default')\n",
    "plt.plot(training_results_Uniform['training_loss'], label='Uniform')\n",
    "plt.ylabel('loss')\n",
    "plt.xlabel('iteration ')  \n",
    "plt.title('training loss iterations')\n",
    "plt.legend()"
   ]
  },
  {
   "cell_type": "markdown",
   "id": "1623b632-23d3-46c7-8f64-84c832f6a6e7",
   "metadata": {},
   "source": [
    "compare the validation loss for each model  \n"
   ]
  },
  {
   "cell_type": "code",
   "execution_count": 15,
   "id": "f6ba4935-7db3-4cbc-bc6c-cc8c5af798f6",
   "metadata": {},
   "outputs": [
    {
     "data": {
      "text/plain": [
       "<matplotlib.legend.Legend at 0x12608a4e0>"
      ]
     },
     "execution_count": 15,
     "metadata": {},
     "output_type": "execute_result"
    },
    {
     "data": {
      "image/png": "[encoded data removed]",
      "text/plain": [
       "<Figure size 640x480 with 1 Axes>"
      ]
     },
     "metadata": {},
     "output_type": "display_data"
    }
   ],
   "source": [
    "# Plot the accuracy\n",
    "\n",
    "plt.plot(training_results_Xavier['validation_accuracy'], label='Xavier')\n",
    "plt.plot(training_results['validation_accuracy'], label='Default')\n",
    "plt.plot(training_results_Uniform['validation_accuracy'], label='Uniform') \n",
    "plt.ylabel('validation accuracy')\n",
    "plt.xlabel('epochs')   \n",
    "plt.legend()"
   ]
  },
  {
   "cell_type": "markdown",
   "id": "357d148d-0962-490b-9eb4-91ff50f07b63",
   "metadata": {},
   "source": [
    "<!--Empty Space for separating topics-->\n"
   ]
  },
  {
   "cell_type": "markdown",
   "id": "d8a9b52a-da86-46a1-a149-429c779a72c1",
   "metadata": {},
   "source": [
    "<h2>About the Authors:</h2> \n",
    "\n",
    "<a href=\"https://www.linkedin.com/in/joseph-s-50398b136/\">Joseph Santarcangelo</a> has a PhD in Electrical Engineering, his research focused on using machine learning, signal processing, and computer vision to determine how videos impact human cognition. Joseph has been working for IBM since he completed his PhD. \n"
   ]
  },
  {
   "cell_type": "markdown",
   "id": "e1739596-6680-4465-ac5a-f9aff981eccd",
   "metadata": {},
   "source": [
    "Other contributors: <a href=\"https://www.linkedin.com/in/michelleccarey/\">Michelle Carey</a>, <a href=\"https://www.linkedin.com/in/jiahui-mavis-zhou-a4537814a\">Mavis Zhou</a>\n"
   ]
  },
  {
   "cell_type": "markdown",
   "id": "a8c847b8-e177-4426-b18e-ffb71b1994da",
   "metadata": {},
   "source": [
    "<!--\n",
    "## Change Log\n",
    "\n",
    "|  Date (YYYY-MM-DD) |  Version | Changed By  |  Change Description |\n",
    "|---|---|---|---|\n",
    "| 2020-09-23  | 2.0  | Srishti  |  Migrated Lab to Markdown and added to course repo in GitLab |\n",
    "\n",
    "\n",
    "\n",
    "<hr>\n",
    "-->\n",
    "\n",
    "## <h3 align=\"center\"> &#169; IBM Corporation. All rights reserved. <h3/>\n"
   ]
  }
 ],
 "metadata": {
  "kernelspec": {
   "display_name": "base",
   "language": "python",
   "name": "python3"
  },
  "language_info": {
   "codemirror_mode": {
    "name": "ipython",
    "version": 3
   },
   "file_extension": ".py",
   "mimetype": "text/x-python",
   "name": "python",
   "nbconvert_exporter": "python",
   "pygments_lexer": "ipython3",
   "version": "3.12.2"
  },
  "prev_pub_hash": "ae8ba0cf2893803ad4014e07cd6f441eb4d2116642d0236ea59413b42123d00f"
 },
 "nbformat": 4,
 "nbformat_minor": 4
}
